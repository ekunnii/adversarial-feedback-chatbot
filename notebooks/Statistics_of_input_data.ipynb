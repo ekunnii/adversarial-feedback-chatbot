{
  "nbformat": 4,
  "nbformat_minor": 0,
  "metadata": {
    "kernelspec": {
      "display_name": "Python 3",
      "language": "python",
      "name": "python3"
    },
    "language_info": {
      "codemirror_mode": {
        "name": "ipython",
        "version": 3
      },
      "file_extension": ".py",
      "mimetype": "text/x-python",
      "name": "python",
      "nbconvert_exporter": "python",
      "pygments_lexer": "ipython3",
      "version": "3.7.5"
    },
    "colab": {
      "name": "Statistics of input data.ipynb",
      "provenance": [],
      "include_colab_link": true
    }
  },
  "cells": [
    {
      "cell_type": "markdown",
      "metadata": {
        "id": "view-in-github",
        "colab_type": "text"
      },
      "source": [
        "<a href=\"https://colab.research.google.com/github/ekunnii/chatbot_feeder/blob/master/notebooks/Statistics_of_input_data.ipynb\" target=\"_parent\"><img src=\"https://colab.research.google.com/assets/colab-badge.svg\" alt=\"Open In Colab\"/></a>"
      ]
    },
    {
      "cell_type": "code",
      "metadata": {
        "id": "N-RCTA2kbU--",
        "colab_type": "code",
        "colab": {}
      },
      "source": [
        "import pandas as pd\n",
        "import matplotlib.pyplot as plt\n",
        "import numpy as np\n",
        "import nltk\n",
        "import re"
      ],
      "execution_count": 0,
      "outputs": []
    },
    {
      "cell_type": "code",
      "metadata": {
        "id": "fbGpBLrZio6F",
        "colab_type": "code",
        "colab": {
          "base_uri": "https://localhost:8080/",
          "height": 34
        },
        "outputId": "be672524-4c12-4b13-9fda-8ce775958fe0"
      },
      "source": [
        "from google.colab import drive\n",
        "drive.mount('/content/gdrive')\n",
        "root_path = '/content/gdrive/My Drive/2020Winter/COMP764-NLU&DL/project/dataset'\n",
        "import os\n",
        "os.chdir(root_path)"
      ],
      "execution_count": 2,
      "outputs": [
        {
          "output_type": "stream",
          "text": [
            "Drive already mounted at /content/gdrive; to attempt to forcibly remount, call drive.mount(\"/content/gdrive\", force_remount=True).\n"
          ],
          "name": "stdout"
        }
      ]
    },
    {
      "cell_type": "code",
      "metadata": {
        "id": "KXoKleE-bU_F",
        "colab_type": "code",
        "colab": {}
      },
      "source": [
        "df = pd.read_csv('df_all_context_train_val.csv')"
      ],
      "execution_count": 0,
      "outputs": []
    },
    {
      "cell_type": "code",
      "metadata": {
        "id": "IJ8fgnXkbU_I",
        "colab_type": "code",
        "colab": {
          "base_uri": "https://localhost:8080/",
          "height": 204
        },
        "outputId": "e1cb773b-4be9-4a00-9ba8-678e8d49db00"
      },
      "source": [
        "df.head()"
      ],
      "execution_count": 4,
      "outputs": [
        {
          "output_type": "execute_result",
          "data": {
            "text/html": [
              "<div>\n",
              "<style scoped>\n",
              "    .dataframe tbody tr th:only-of-type {\n",
              "        vertical-align: middle;\n",
              "    }\n",
              "\n",
              "    .dataframe tbody tr th {\n",
              "        vertical-align: top;\n",
              "    }\n",
              "\n",
              "    .dataframe thead th {\n",
              "        text-align: right;\n",
              "    }\n",
              "</style>\n",
              "<table border=\"1\" class=\"dataframe\">\n",
              "  <thead>\n",
              "    <tr style=\"text-align: right;\">\n",
              "      <th></th>\n",
              "      <th>Unnamed: 0</th>\n",
              "      <th>context</th>\n",
              "      <th>response</th>\n",
              "      <th>label</th>\n",
              "    </tr>\n",
              "  </thead>\n",
              "  <tbody>\n",
              "    <tr>\n",
              "      <th>0</th>\n",
              "      <td>119080</td>\n",
              "      <td>__p1__ __SILENCE__ __p2__ you want me to make ...</td>\n",
              "      <td>cape hatteras . that sounds like a fun city !</td>\n",
              "      <td>0</td>\n",
              "    </tr>\n",
              "    <tr>\n",
              "      <th>1</th>\n",
              "      <td>98415</td>\n",
              "      <td>__p1__ __SILENCE__ __p2__ hello , care to chat...</td>\n",
              "      <td>i am good . enjoyed my favorite movie magic mi...</td>\n",
              "      <td>0</td>\n",
              "    </tr>\n",
              "    <tr>\n",
              "      <th>2</th>\n",
              "      <td>54721</td>\n",
              "      <td>__p1__ hi how are you doing __p2__ not too bad...</td>\n",
              "      <td>got dumped for being selfish i need to change</td>\n",
              "      <td>0</td>\n",
              "    </tr>\n",
              "    <tr>\n",
              "      <th>3</th>\n",
              "      <td>44348</td>\n",
              "      <td>__p1__ hey thow are you today ? like kids __p2...</td>\n",
              "      <td>have you ever ridden a horse ? i'm all about t...</td>\n",
              "      <td>0</td>\n",
              "    </tr>\n",
              "    <tr>\n",
              "      <th>4</th>\n",
              "      <td>18073</td>\n",
              "      <td>__p1__ i'm a super hero who runs super long di...</td>\n",
              "      <td>ah , then not such a super super hero . i live...</td>\n",
              "      <td>0</td>\n",
              "    </tr>\n",
              "  </tbody>\n",
              "</table>\n",
              "</div>"
            ],
            "text/plain": [
              "   Unnamed: 0  ... label\n",
              "0      119080  ...     0\n",
              "1       98415  ...     0\n",
              "2       54721  ...     0\n",
              "3       44348  ...     0\n",
              "4       18073  ...     0\n",
              "\n",
              "[5 rows x 4 columns]"
            ]
          },
          "metadata": {
            "tags": []
          },
          "execution_count": 4
        }
      ]
    },
    {
      "cell_type": "markdown",
      "metadata": {
        "id": "ppOnp0-_bU_M",
        "colab_type": "text"
      },
      "source": [
        "## Number of Words in Dialog\n"
      ]
    },
    {
      "cell_type": "code",
      "metadata": {
        "id": "LHyv4SfVbU_N",
        "colab_type": "code",
        "colab": {}
      },
      "source": [
        "def get_context_length(context):\n",
        "    context=re.sub('__p1__|__p2__', '', context)\n",
        "    tokens = context.rstrip().split()\n",
        "    return len(tokens)\n",
        "    \n",
        "df['context_length'] = df['context'].apply(get_context_length)"
      ],
      "execution_count": 0,
      "outputs": []
    },
    {
      "cell_type": "code",
      "metadata": {
        "id": "1hQatywgbU_Q",
        "colab_type": "code",
        "colab": {
          "base_uri": "https://localhost:8080/",
          "height": 34
        },
        "outputId": "5157de77-92bf-45cf-9b6d-59aca307c5ac"
      },
      "source": [
        "df[df.label==0].context_length.mean()"
      ],
      "execution_count": 6,
      "outputs": [
        {
          "output_type": "execute_result",
          "data": {
            "text/plain": [
              "79.74105263157895"
            ]
          },
          "metadata": {
            "tags": []
          },
          "execution_count": 6
        }
      ]
    },
    {
      "cell_type": "code",
      "metadata": {
        "id": "y-PRiyPgbU_T",
        "colab_type": "code",
        "colab": {
          "base_uri": "https://localhost:8080/",
          "height": 34
        },
        "outputId": "8d7936c3-033f-44d2-e018-90dce8944937"
      },
      "source": [
        "df[df.label==1].context_length.mean()"
      ],
      "execution_count": 7,
      "outputs": [
        {
          "output_type": "execute_result",
          "data": {
            "text/plain": [
              "13.404377496671104"
            ]
          },
          "metadata": {
            "tags": []
          },
          "execution_count": 7
        }
      ]
    },
    {
      "cell_type": "code",
      "metadata": {
        "id": "d38xAIMxbU_X",
        "colab_type": "code",
        "colab": {
          "base_uri": "https://localhost:8080/",
          "height": 34
        },
        "outputId": "3c6cf4a6-b19a-46d3-eaa4-d21e1903596b"
      },
      "source": [
        "df[df.label==0].context_length.median()"
      ],
      "execution_count": 8,
      "outputs": [
        {
          "output_type": "execute_result",
          "data": {
            "text/plain": [
              "77.0"
            ]
          },
          "metadata": {
            "tags": []
          },
          "execution_count": 8
        }
      ]
    },
    {
      "cell_type": "code",
      "metadata": {
        "id": "Ol3mxdEIbU_a",
        "colab_type": "code",
        "colab": {
          "base_uri": "https://localhost:8080/",
          "height": 34
        },
        "outputId": "b4ec9665-8025-48d4-bb73-24536f50490a"
      },
      "source": [
        "df[df.label==1].context_length.median()"
      ],
      "execution_count": 9,
      "outputs": [
        {
          "output_type": "execute_result",
          "data": {
            "text/plain": [
              "6.0"
            ]
          },
          "metadata": {
            "tags": []
          },
          "execution_count": 9
        }
      ]
    },
    {
      "cell_type": "code",
      "metadata": {
        "id": "--k4lQoabU_f",
        "colab_type": "code",
        "colab": {
          "base_uri": "https://localhost:8080/",
          "height": 312
        },
        "outputId": "dbc4573a-15d1-42bb-c9db-29ec330b072c"
      },
      "source": [
        "plt.hist(df[(df.label==0) & (df.context_length<100)].context_length)\n",
        "plt.xlabel('Number of words in context')\n",
        "plt.ylabel('Number of samples')\n",
        "plt.title('Human-Human Dialog')"
      ],
      "execution_count": 10,
      "outputs": [
        {
          "output_type": "execute_result",
          "data": {
            "text/plain": [
              "Text(0.5, 1.0, 'Human-Human Dialog')"
            ]
          },
          "metadata": {
            "tags": []
          },
          "execution_count": 10
        },
        {
          "output_type": "display_data",
          "data": {
            "image/png": "[encoded data removed]",
            "text/plain": [
              "<Figure size 432x288 with 1 Axes>"
            ]
          },
          "metadata": {
            "tags": []
          }
        }
      ]
    },
    {
      "cell_type": "code",
      "metadata": {
        "id": "4F_C5uKObU_j",
        "colab_type": "code",
        "colab": {
          "base_uri": "https://localhost:8080/",
          "height": 312
        },
        "outputId": "e3e00488-0b52-48fa-bb94-fefb477fb07c"
      },
      "source": [
        "plt.hist(df[(df.label==1) & (df.context_length<100)].context_length)\n",
        "plt.xlabel('Number of words in context')\n",
        "plt.ylabel('Number of samples')\n",
        "plt.title('Feedback Dialog')"
      ],
      "execution_count": 11,
      "outputs": [
        {
          "output_type": "execute_result",
          "data": {
            "text/plain": [
              "Text(0.5, 1.0, 'Feedback Dialog')"
            ]
          },
          "metadata": {
            "tags": []
          },
          "execution_count": 11
        },
        {
          "output_type": "display_data",
          "data": {
            "image/png": "[encoded data removed]",
            "text/plain": [
              "<Figure size 432x288 with 1 Axes>"
            ]
          },
          "metadata": {
            "tags": []
          }
        }
      ]
    },
    {
      "cell_type": "markdown",
      "metadata": {
        "id": "8GjRb7zHbU_o",
        "colab_type": "text"
      },
      "source": [
        "## Number of Turns"
      ]
    },
    {
      "cell_type": "code",
      "metadata": {
        "id": "LVUZKLgijeHN",
        "colab_type": "code",
        "colab": {}
      },
      "source": [
        "def split_turns(context):\n",
        "    turn_list = [x.strip() for x in re.split('__p1__|__p2__',context)]\n",
        "    turn_list.pop(0) # remove first empty string\n",
        "\n",
        "    return turn_list\n",
        "df['turn_list'] = df['context'].apply(split_turns)\n",
        "df['Number of Turns'] = df['turn_list'].str.len()"
      ],
      "execution_count": 0,
      "outputs": []
    },
    {
      "cell_type": "code",
      "metadata": {
        "id": "xLanzG1jlB9R",
        "colab_type": "code",
        "colab": {
          "base_uri": "https://localhost:8080/",
          "height": 359
        },
        "outputId": "45997a1d-c53a-4b03-ad5f-d052323e3cce"
      },
      "source": [
        "df.head(10)"
      ],
      "execution_count": 13,
      "outputs": [
        {
          "output_type": "execute_result",
          "data": {
            "text/html": [
              "<div>\n",
              "<style scoped>\n",
              "    .dataframe tbody tr th:only-of-type {\n",
              "        vertical-align: middle;\n",
              "    }\n",
              "\n",
              "    .dataframe tbody tr th {\n",
              "        vertical-align: top;\n",
              "    }\n",
              "\n",
              "    .dataframe thead th {\n",
              "        text-align: right;\n",
              "    }\n",
              "</style>\n",
              "<table border=\"1\" class=\"dataframe\">\n",
              "  <thead>\n",
              "    <tr style=\"text-align: right;\">\n",
              "      <th></th>\n",
              "      <th>Unnamed: 0</th>\n",
              "      <th>context</th>\n",
              "      <th>response</th>\n",
              "      <th>label</th>\n",
              "      <th>context_length</th>\n",
              "      <th>turn_list</th>\n",
              "      <th>Number of Turns</th>\n",
              "    </tr>\n",
              "  </thead>\n",
              "  <tbody>\n",
              "    <tr>\n",
              "      <th>0</th>\n",
              "      <td>119080</td>\n",
              "      <td>__p1__ __SILENCE__ __p2__ you want me to make ...</td>\n",
              "      <td>cape hatteras . that sounds like a fun city !</td>\n",
              "      <td>0</td>\n",
              "      <td>26</td>\n",
              "      <td>[__SILENCE__, you want me to make you tuna sal...</td>\n",
              "      <td>3</td>\n",
              "    </tr>\n",
              "    <tr>\n",
              "      <th>1</th>\n",
              "      <td>98415</td>\n",
              "      <td>__p1__ __SILENCE__ __p2__ hello , care to chat...</td>\n",
              "      <td>i am good . enjoyed my favorite movie magic mi...</td>\n",
              "      <td>0</td>\n",
              "      <td>19</td>\n",
              "      <td>[__SILENCE__, hello , care to chat with a fema...</td>\n",
              "      <td>3</td>\n",
              "    </tr>\n",
              "    <tr>\n",
              "      <th>2</th>\n",
              "      <td>54721</td>\n",
              "      <td>__p1__ hi how are you doing __p2__ not too bad...</td>\n",
              "      <td>got dumped for being selfish i need to change</td>\n",
              "      <td>0</td>\n",
              "      <td>20</td>\n",
              "      <td>[hi how are you doing, not too bad a little do...</td>\n",
              "      <td>3</td>\n",
              "    </tr>\n",
              "    <tr>\n",
              "      <th>3</th>\n",
              "      <td>44348</td>\n",
              "      <td>__p1__ hey thow are you today ? like kids __p2...</td>\n",
              "      <td>have you ever ridden a horse ? i'm all about t...</td>\n",
              "      <td>0</td>\n",
              "      <td>138</td>\n",
              "      <td>[hey thow are you today ? like kids, i'm good ...</td>\n",
              "      <td>13</td>\n",
              "    </tr>\n",
              "    <tr>\n",
              "      <th>4</th>\n",
              "      <td>18073</td>\n",
              "      <td>__p1__ i'm a super hero who runs super long di...</td>\n",
              "      <td>ah , then not such a super super hero . i live...</td>\n",
              "      <td>0</td>\n",
              "      <td>42</td>\n",
              "      <td>[i'm a super hero who runs super long distance...</td>\n",
              "      <td>3</td>\n",
              "    </tr>\n",
              "    <tr>\n",
              "      <th>5</th>\n",
              "      <td>47020</td>\n",
              "      <td>__p1__ did you hear that troy gentry was kille...</td>\n",
              "      <td>i love cheesecake</td>\n",
              "      <td>0</td>\n",
              "      <td>157</td>\n",
              "      <td>[did you hear that troy gentry was killed toda...</td>\n",
              "      <td>15</td>\n",
              "    </tr>\n",
              "    <tr>\n",
              "      <th>6</th>\n",
              "      <td>5476</td>\n",
              "      <td>__p1__ hi there , i know we have never talked ...</td>\n",
              "      <td>i like to go rick climbing</td>\n",
              "      <td>0</td>\n",
              "      <td>151</td>\n",
              "      <td>[hi there , i know we have never talked much b...</td>\n",
              "      <td>13</td>\n",
              "    </tr>\n",
              "    <tr>\n",
              "      <th>7</th>\n",
              "      <td>56124</td>\n",
              "      <td>__p1__ i am an old man and i love to garden .</td>\n",
              "      <td>hello , i love gardening as well , do you have...</td>\n",
              "      <td>0</td>\n",
              "      <td>11</td>\n",
              "      <td>[i am an old man and i love to garden .]</td>\n",
              "      <td>1</td>\n",
              "    </tr>\n",
              "    <tr>\n",
              "      <th>8</th>\n",
              "      <td>62829</td>\n",
              "      <td>__p1__ hello there ! how are you ? __p2__ i'm ...</td>\n",
              "      <td>my dog used to love treats especially cheese .</td>\n",
              "      <td>0</td>\n",
              "      <td>195</td>\n",
              "      <td>[hello there ! how are you ?, i'm great ! how ...</td>\n",
              "      <td>15</td>\n",
              "    </tr>\n",
              "    <tr>\n",
              "      <th>9</th>\n",
              "      <td>38307</td>\n",
              "      <td>__p1__ do you believe in astrology? __p2__ i w...</td>\n",
              "      <td>no i think it's a lie</td>\n",
              "      <td>1</td>\n",
              "      <td>23</td>\n",
              "      <td>[do you believe in astrology?, i wish i had se...</td>\n",
              "      <td>3</td>\n",
              "    </tr>\n",
              "  </tbody>\n",
              "</table>\n",
              "</div>"
            ],
            "text/plain": [
              "   Unnamed: 0  ... Number of Turns\n",
              "0      119080  ...               3\n",
              "1       98415  ...               3\n",
              "2       54721  ...               3\n",
              "3       44348  ...              13\n",
              "4       18073  ...               3\n",
              "5       47020  ...              15\n",
              "6        5476  ...              13\n",
              "7       56124  ...               1\n",
              "8       62829  ...              15\n",
              "9       38307  ...               3\n",
              "\n",
              "[10 rows x 7 columns]"
            ]
          },
          "metadata": {
            "tags": []
          },
          "execution_count": 13
        }
      ]
    },
    {
      "cell_type": "code",
      "metadata": {
        "id": "VgKXieqQbU_r",
        "colab_type": "code",
        "colab": {
          "base_uri": "https://localhost:8080/",
          "height": 312
        },
        "outputId": "2f4741fc-2ca7-42d8-8475-dd2458d48b62"
      },
      "source": [
        "plt.hist(df[(df.label==0)]['Number of Turns'])\n",
        "plt.xlabel('Number of turns')\n",
        "plt.ylabel('Number of samples')\n",
        "plt.title('Human-Human Dialog')"
      ],
      "execution_count": 14,
      "outputs": [
        {
          "output_type": "execute_result",
          "data": {
            "text/plain": [
              "Text(0.5, 1.0, 'Human-Human Dialog')"
            ]
          },
          "metadata": {
            "tags": []
          },
          "execution_count": 14
        },
        {
          "output_type": "display_data",
          "data": {
            "image/png": "[encoded data removed]",
            "text/plain": [
              "<Figure size 432x288 with 1 Axes>"
            ]
          },
          "metadata": {
            "tags": []
          }
        }
      ]
    },
    {
      "cell_type": "code",
      "metadata": {
        "id": "7nRYz9vmbU_w",
        "colab_type": "code",
        "colab": {
          "base_uri": "https://localhost:8080/",
          "height": 312
        },
        "outputId": "f847257b-3fb1-40d7-b481-e9e777a5f4bd"
      },
      "source": [
        "plt.hist(df[(df.label==0)&(df['Number of Turns']<=10)]['Number of Turns'])\n",
        "plt.xlabel('Number of turns')\n",
        "plt.ylabel('Number of samples')\n",
        "plt.title('Human-Human Dialog')"
      ],
      "execution_count": 15,
      "outputs": [
        {
          "output_type": "execute_result",
          "data": {
            "text/plain": [
              "Text(0.5, 1.0, 'Human-Human Dialog')"
            ]
          },
          "metadata": {
            "tags": []
          },
          "execution_count": 15
        },
        {
          "output_type": "display_data",
          "data": {
            "image/png": "[encoded data removed]",
            "text/plain": [
              "<Figure size 432x288 with 1 Axes>"
            ]
          },
          "metadata": {
            "tags": []
          }
        }
      ]
    },
    {
      "cell_type": "code",
      "metadata": {
        "id": "wlw5ERwYbU_z",
        "colab_type": "code",
        "colab": {
          "base_uri": "https://localhost:8080/",
          "height": 312
        },
        "outputId": "c0cadfff-5142-465f-922d-ad8ec0450e7c"
      },
      "source": [
        "plt.hist(df[(df.label==1)]['Number of Turns'])\n",
        "plt.xlabel('Number of turns')\n",
        "plt.ylabel('Number of samples')\n",
        "plt.title('Feedback Dialog')"
      ],
      "execution_count": 16,
      "outputs": [
        {
          "output_type": "execute_result",
          "data": {
            "text/plain": [
              "Text(0.5, 1.0, 'Feedback Dialog')"
            ]
          },
          "metadata": {
            "tags": []
          },
          "execution_count": 16
        },
        {
          "output_type": "display_data",
          "data": {
            "image/png": "[encoded data removed]",
            "text/plain": [
              "<Figure size 432x288 with 1 Axes>"
            ]
          },
          "metadata": {
            "tags": []
          }
        }
      ]
    },
    {
      "cell_type": "markdown",
      "metadata": {
        "id": "fplCkOzmbU_2",
        "colab_type": "text"
      },
      "source": [
        "## Number of words per turn"
      ]
    },
    {
      "cell_type": "code",
      "metadata": {
        "id": "xVuI9qZlbU_3",
        "colab_type": "code",
        "colab": {}
      },
      "source": [
        "df_human = df[(df.label==0)]"
      ],
      "execution_count": 0,
      "outputs": []
    },
    {
      "cell_type": "code",
      "metadata": {
        "id": "R1WKp_2jbU_6",
        "colab_type": "code",
        "colab": {}
      },
      "source": [
        "# human_lengths = [len(x.split()) for item in df_human['context'].str.split('__p1__') for x in item if(len(x.split())>0)]\n",
        "\n",
        "human_lengths = [len(x.split()) for turns in df_human['turn_list'] for x in turns if(len(x.split())>0)]"
      ],
      "execution_count": 0,
      "outputs": []
    },
    {
      "cell_type": "code",
      "metadata": {
        "id": "-agGMg3GbU_8",
        "colab_type": "code",
        "colab": {
          "base_uri": "https://localhost:8080/",
          "height": 312
        },
        "outputId": "dfc8c911-4900-4ef9-9dff-96a1b634899f"
      },
      "source": [
        "plt.hist(human_lengths)\n",
        "plt.xlabel('Number of words')\n",
        "plt.ylabel('Number of samples')\n",
        "plt.title('Human Dialog')"
      ],
      "execution_count": 19,
      "outputs": [
        {
          "output_type": "execute_result",
          "data": {
            "text/plain": [
              "Text(0.5, 1.0, 'Human Dialog')"
            ]
          },
          "metadata": {
            "tags": []
          },
          "execution_count": 19
        },
        {
          "output_type": "display_data",
          "data": {
            "image/png": "[encoded data removed]",
            "text/plain": [
              "<Figure size 432x288 with 1 Axes>"
            ]
          },
          "metadata": {
            "tags": []
          }
        }
      ]
    },
    {
      "cell_type": "code",
      "metadata": {
        "id": "OUTT3AjBbVAB",
        "colab_type": "code",
        "colab": {
          "base_uri": "https://localhost:8080/",
          "height": 34
        },
        "outputId": "94266ddb-9c78-4140-d325-0e999d3fbc78"
      },
      "source": [
        "np.mean(human_lengths)"
      ],
      "execution_count": 20,
      "outputs": [
        {
          "output_type": "execute_result",
          "data": {
            "text/plain": [
              "10.71652681503101"
            ]
          },
          "metadata": {
            "tags": []
          },
          "execution_count": 20
        }
      ]
    },
    {
      "cell_type": "code",
      "metadata": {
        "id": "DU_umpfAbVAD",
        "colab_type": "code",
        "colab": {
          "base_uri": "https://localhost:8080/",
          "height": 34
        },
        "outputId": "329a6326-50da-4ba2-c75b-ca4f0b3d0937"
      },
      "source": [
        "np.median(human_lengths)"
      ],
      "execution_count": 21,
      "outputs": [
        {
          "output_type": "execute_result",
          "data": {
            "text/plain": [
              "11.0"
            ]
          },
          "metadata": {
            "tags": []
          },
          "execution_count": 21
        }
      ]
    },
    {
      "cell_type": "code",
      "metadata": {
        "id": "TnknVj3vbVAG",
        "colab_type": "code",
        "colab": {}
      },
      "source": [
        "df_feedback = df[(df.label==1)]"
      ],
      "execution_count": 0,
      "outputs": []
    },
    {
      "cell_type": "code",
      "metadata": {
        "id": "O9o_TRz8bVAJ",
        "colab_type": "code",
        "colab": {}
      },
      "source": [
        "# feedback_lengths = [len(x.split()) for item in df_feedback['context'].str.split('__p1__') for x in item if(len(x.split())>0)]\n",
        "feedback_lengths = [len(x.split()) for turns in df_feedback['turn_list'] for x in turns if(len(x.split())>0)]"
      ],
      "execution_count": 0,
      "outputs": []
    },
    {
      "cell_type": "code",
      "metadata": {
        "id": "XjynuJ1HbVAM",
        "colab_type": "code",
        "colab": {
          "base_uri": "https://localhost:8080/",
          "height": 312
        },
        "outputId": "dbc9dd43-50bc-459a-c8c1-7618f191a344"
      },
      "source": [
        "plt.hist(feedback_lengths)\n",
        "plt.xlabel('Number of words')\n",
        "plt.ylabel('Number of samples')\n",
        "plt.title('Feedback Dialog')"
      ],
      "execution_count": 24,
      "outputs": [
        {
          "output_type": "execute_result",
          "data": {
            "text/plain": [
              "Text(0.5, 1.0, 'Feedback Dialog')"
            ]
          },
          "metadata": {
            "tags": []
          },
          "execution_count": 24
        },
        {
          "output_type": "display_data",
          "data": {
            "image/png": "[encoded data removed]",
            "text/plain": [
              "<Figure size 432x288 with 1 Axes>"
            ]
          },
          "metadata": {
            "tags": []
          }
        }
      ]
    },
    {
      "cell_type": "code",
      "metadata": {
        "id": "k724JNbnbVAQ",
        "colab_type": "code",
        "colab": {
          "base_uri": "https://localhost:8080/",
          "height": 34
        },
        "outputId": "8b314122-cdcf-41a9-b761-1727311b6c4e"
      },
      "source": [
        "np.mean(feedback_lengths)"
      ],
      "execution_count": 25,
      "outputs": [
        {
          "output_type": "execute_result",
          "data": {
            "text/plain": [
              "7.161079494931531"
            ]
          },
          "metadata": {
            "tags": []
          },
          "execution_count": 25
        }
      ]
    },
    {
      "cell_type": "code",
      "metadata": {
        "id": "m2x88WRabVAS",
        "colab_type": "code",
        "colab": {
          "base_uri": "https://localhost:8080/",
          "height": 34
        },
        "outputId": "f7133b65-a0e0-4b31-82b5-8e190d6f8494"
      },
      "source": [
        "np.median(feedback_lengths)"
      ],
      "execution_count": 26,
      "outputs": [
        {
          "output_type": "execute_result",
          "data": {
            "text/plain": [
              "6.0"
            ]
          },
          "metadata": {
            "tags": []
          },
          "execution_count": 26
        }
      ]
    },
    {
      "cell_type": "code",
      "metadata": {
        "id": "SKcb9gUJbVAV",
        "colab_type": "code",
        "colab": {}
      },
      "source": [
        ""
      ],
      "execution_count": 0,
      "outputs": []
    }
  ]
}