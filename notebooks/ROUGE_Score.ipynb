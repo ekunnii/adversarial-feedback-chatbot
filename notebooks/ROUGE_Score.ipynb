{
  "nbformat": 4,
  "nbformat_minor": 0,
  "metadata": {
    "colab": {
      "name": "ROUGE Score.ipynb",
      "provenance": [],
      "collapsed_sections": [],
      "toc_visible": true,
      "include_colab_link": true
    },
    "kernelspec": {
      "name": "python3",
      "display_name": "Python 3"
    }
  },
  "cells": [
    {
      "cell_type": "markdown",
      "metadata": {
        "id": "view-in-github",
        "colab_type": "text"
      },
      "source": [
        "<a href=\"https://colab.research.google.com/github/ekunnii/chatbot_feeder/blob/master/notebooks/ROUGE_Score.ipynb\" target=\"_parent\"><img src=\"https://colab.research.google.com/assets/colab-badge.svg\" alt=\"Open In Colab\"/></a>"
      ]
    },
    {
      "cell_type": "markdown",
      "metadata": {
        "id": "Uw0NI4vjHIpK",
        "colab_type": "text"
      },
      "source": [
        "# ROUGE Score of all models\n",
        "reference: http://www.ccs.neu.edu/home/vip/teach/DMcourse/5_topicmodel_summ/notes_slides/What-is-ROUGE.pdf"
      ]
    },
    {
      "cell_type": "code",
      "metadata": {
        "id": "39VtSYyfIo68",
        "colab_type": "code",
        "outputId": "abe0dba3-85a8-4473-feee-4b6f7747fe61",
        "colab": {
          "base_uri": "https://localhost:8080/",
          "height": 102
        }
      },
      "source": [
        "# https://github.com/google-research/google-research/tree/master/rouge\n",
        "!pip install rouge-score"
      ],
      "execution_count": 0,
      "outputs": [
        {
          "output_type": "stream",
          "text": [
            "Requirement already satisfied: rouge-score in /usr/local/lib/python3.6/dist-packages (0.0.3)\n",
            "Requirement already satisfied: six>=1.12.0 in /usr/local/lib/python3.6/dist-packages (from rouge-score) (1.12.0)\n",
            "Requirement already satisfied: numpy in /usr/local/lib/python3.6/dist-packages (from rouge-score) (1.18.2)\n",
            "Requirement already satisfied: absl-py in /usr/local/lib/python3.6/dist-packages (from rouge-score) (0.9.0)\n",
            "Requirement already satisfied: nltk in /usr/local/lib/python3.6/dist-packages (from rouge-score) (3.2.5)\n"
          ],
          "name": "stdout"
        }
      ]
    },
    {
      "cell_type": "code",
      "metadata": {
        "id": "7KKb3o7LHoyU",
        "colab_type": "code",
        "colab": {}
      },
      "source": [
        "import os"
      ],
      "execution_count": 0,
      "outputs": []
    },
    {
      "cell_type": "code",
      "metadata": {
        "id": "-RXLHRK3HEw2",
        "colab_type": "code",
        "outputId": "9c95c6eb-e286-4c61-9e29-f67f77a53d75",
        "colab": {
          "base_uri": "https://localhost:8080/",
          "height": 34
        }
      },
      "source": [
        "from google.colab import drive\n",
        "drive.mount('/content/drive')"
      ],
      "execution_count": 0,
      "outputs": [
        {
          "output_type": "stream",
          "text": [
            "Drive already mounted at /content/drive; to attempt to forcibly remount, call drive.mount(\"/content/drive\", force_remount=True).\n"
          ],
          "name": "stdout"
        }
      ]
    },
    {
      "cell_type": "code",
      "metadata": {
        "id": "QdexH3pQH0Vo",
        "colab_type": "code",
        "colab": {}
      },
      "source": [
        "os.chdir(\"/content/drive/My Drive/2020Winter/COMP764_NLU/project/results_metrics\")"
      ],
      "execution_count": 0,
      "outputs": []
    },
    {
      "cell_type": "markdown",
      "metadata": {
        "id": "I8NL04EuUHs-",
        "colab_type": "text"
      },
      "source": [
        "## Inside Python "
      ]
    },
    {
      "cell_type": "code",
      "metadata": {
        "id": "cdVEwk2QUllC",
        "colab_type": "code",
        "colab": {}
      },
      "source": [
        "from rouge_score import rouge_scorer, io, scoring\n",
        "\n",
        "scorer = rouge_scorer.RougeScorer([\"rouge1\", \"rouge2\", \"rougeL\"],  use_stemmer=True)\n",
        "aggregator = scoring.BootstrapAggregator()\n",
        "io.compute_scores_and_write_to_csv(\n",
        "    'test_targets.txt',\n",
        "    'test_predictions.txt',\n",
        "    'scores.csv',\n",
        "    scorer,\n",
        "    aggregator,\n",
        "    delimiter='\\n')"
      ],
      "execution_count": 0,
      "outputs": []
    },
    {
      "cell_type": "code",
      "metadata": {
        "colab_type": "code",
        "outputId": "c9321a47-53dc-4764-b8e6-f7d8dfcdb670",
        "id": "nFumrb3aV7GI",
        "colab": {
          "base_uri": "https://localhost:8080/",
          "height": 328
        }
      },
      "source": [
        "import pandas as pd\n",
        "\n",
        "df_rouge = pd.read_csv(\"scores.csv\")\n",
        "df_rouge"
      ],
      "execution_count": 0,
      "outputs": [
        {
          "output_type": "execute_result",
          "data": {
            "text/html": [
              "<div>\n",
              "<style scoped>\n",
              "    .dataframe tbody tr th:only-of-type {\n",
              "        vertical-align: middle;\n",
              "    }\n",
              "\n",
              "    .dataframe tbody tr th {\n",
              "        vertical-align: top;\n",
              "    }\n",
              "\n",
              "    .dataframe thead th {\n",
              "        text-align: right;\n",
              "    }\n",
              "</style>\n",
              "<table border=\"1\" class=\"dataframe\">\n",
              "  <thead>\n",
              "    <tr style=\"text-align: right;\">\n",
              "      <th></th>\n",
              "      <th>score_type</th>\n",
              "      <th>low</th>\n",
              "      <th>mid</th>\n",
              "      <th>high</th>\n",
              "    </tr>\n",
              "  </thead>\n",
              "  <tbody>\n",
              "    <tr>\n",
              "      <th>0</th>\n",
              "      <td>rouge1-R</td>\n",
              "      <td>0.358102</td>\n",
              "      <td>0.412190</td>\n",
              "      <td>0.464534</td>\n",
              "    </tr>\n",
              "    <tr>\n",
              "      <th>1</th>\n",
              "      <td>rouge1-P</td>\n",
              "      <td>0.221721</td>\n",
              "      <td>0.256150</td>\n",
              "      <td>0.292654</td>\n",
              "    </tr>\n",
              "    <tr>\n",
              "      <th>2</th>\n",
              "      <td>rouge1-F</td>\n",
              "      <td>0.264755</td>\n",
              "      <td>0.303369</td>\n",
              "      <td>0.342396</td>\n",
              "    </tr>\n",
              "    <tr>\n",
              "      <th>3</th>\n",
              "      <td>rouge2-R</td>\n",
              "      <td>0.231555</td>\n",
              "      <td>0.284158</td>\n",
              "      <td>0.341841</td>\n",
              "    </tr>\n",
              "    <tr>\n",
              "      <th>4</th>\n",
              "      <td>rouge2-P</td>\n",
              "      <td>0.132113</td>\n",
              "      <td>0.164844</td>\n",
              "      <td>0.203074</td>\n",
              "    </tr>\n",
              "    <tr>\n",
              "      <th>5</th>\n",
              "      <td>rouge2-F</td>\n",
              "      <td>0.160701</td>\n",
              "      <td>0.198975</td>\n",
              "      <td>0.241206</td>\n",
              "    </tr>\n",
              "    <tr>\n",
              "      <th>6</th>\n",
              "      <td>rougeL-R</td>\n",
              "      <td>0.323494</td>\n",
              "      <td>0.375608</td>\n",
              "      <td>0.426454</td>\n",
              "    </tr>\n",
              "    <tr>\n",
              "      <th>7</th>\n",
              "      <td>rougeL-P</td>\n",
              "      <td>0.196569</td>\n",
              "      <td>0.228398</td>\n",
              "      <td>0.263401</td>\n",
              "    </tr>\n",
              "    <tr>\n",
              "      <th>8</th>\n",
              "      <td>rougeL-F</td>\n",
              "      <td>0.234001</td>\n",
              "      <td>0.272621</td>\n",
              "      <td>0.311362</td>\n",
              "    </tr>\n",
              "  </tbody>\n",
              "</table>\n",
              "</div>"
            ],
            "text/plain": [
              "  score_type       low       mid      high\n",
              "0   rouge1-R  0.358102  0.412190  0.464534\n",
              "1   rouge1-P  0.221721  0.256150  0.292654\n",
              "2   rouge1-F  0.264755  0.303369  0.342396\n",
              "3   rouge2-R  0.231555  0.284158  0.341841\n",
              "4   rouge2-P  0.132113  0.164844  0.203074\n",
              "5   rouge2-F  0.160701  0.198975  0.241206\n",
              "6   rougeL-R  0.323494  0.375608  0.426454\n",
              "7   rougeL-P  0.196569  0.228398  0.263401\n",
              "8   rougeL-F  0.234001  0.272621  0.311362"
            ]
          },
          "metadata": {
            "tags": []
          },
          "execution_count": 6
        }
      ]
    },
    {
      "cell_type": "code",
      "metadata": {
        "id": "pl7dVA9At6kO",
        "colab_type": "code",
        "outputId": "1b6740ab-1c89-4c9a-9078-e86664fb8a6d",
        "colab": {
          "base_uri": "https://localhost:8080/",
          "height": 328
        }
      },
      "source": [
        "import pandas as pd\n",
        "\n",
        "df_rouge = pd.read_csv(\"scores.csv\")\n",
        "df_rouge"
      ],
      "execution_count": 0,
      "outputs": [
        {
          "output_type": "execute_result",
          "data": {
            "text/html": [
              "<div>\n",
              "<style scoped>\n",
              "    .dataframe tbody tr th:only-of-type {\n",
              "        vertical-align: middle;\n",
              "    }\n",
              "\n",
              "    .dataframe tbody tr th {\n",
              "        vertical-align: top;\n",
              "    }\n",
              "\n",
              "    .dataframe thead th {\n",
              "        text-align: right;\n",
              "    }\n",
              "</style>\n",
              "<table border=\"1\" class=\"dataframe\">\n",
              "  <thead>\n",
              "    <tr style=\"text-align: right;\">\n",
              "      <th></th>\n",
              "      <th>score_type</th>\n",
              "      <th>low</th>\n",
              "      <th>mid</th>\n",
              "      <th>high</th>\n",
              "    </tr>\n",
              "  </thead>\n",
              "  <tbody>\n",
              "    <tr>\n",
              "      <th>0</th>\n",
              "      <td>rouge1-R</td>\n",
              "      <td>0.506741</td>\n",
              "      <td>0.513632</td>\n",
              "      <td>0.519868</td>\n",
              "    </tr>\n",
              "    <tr>\n",
              "      <th>1</th>\n",
              "      <td>rouge1-P</td>\n",
              "      <td>0.342568</td>\n",
              "      <td>0.347434</td>\n",
              "      <td>0.352142</td>\n",
              "    </tr>\n",
              "    <tr>\n",
              "      <th>2</th>\n",
              "      <td>rouge1-F</td>\n",
              "      <td>0.391058</td>\n",
              "      <td>0.396219</td>\n",
              "      <td>0.401290</td>\n",
              "    </tr>\n",
              "    <tr>\n",
              "      <th>3</th>\n",
              "      <td>rouge2-R</td>\n",
              "      <td>0.359652</td>\n",
              "      <td>0.367137</td>\n",
              "      <td>0.374690</td>\n",
              "    </tr>\n",
              "    <tr>\n",
              "      <th>4</th>\n",
              "      <td>rouge2-P</td>\n",
              "      <td>0.228395</td>\n",
              "      <td>0.233288</td>\n",
              "      <td>0.238237</td>\n",
              "    </tr>\n",
              "    <tr>\n",
              "      <th>5</th>\n",
              "      <td>rouge2-F</td>\n",
              "      <td>0.265172</td>\n",
              "      <td>0.270630</td>\n",
              "      <td>0.276076</td>\n",
              "    </tr>\n",
              "    <tr>\n",
              "      <th>6</th>\n",
              "      <td>rougeL-R</td>\n",
              "      <td>0.458417</td>\n",
              "      <td>0.465068</td>\n",
              "      <td>0.471511</td>\n",
              "    </tr>\n",
              "    <tr>\n",
              "      <th>7</th>\n",
              "      <td>rougeL-P</td>\n",
              "      <td>0.307150</td>\n",
              "      <td>0.311254</td>\n",
              "      <td>0.315497</td>\n",
              "    </tr>\n",
              "    <tr>\n",
              "      <th>8</th>\n",
              "      <td>rougeL-F</td>\n",
              "      <td>0.351641</td>\n",
              "      <td>0.356141</td>\n",
              "      <td>0.360965</td>\n",
              "    </tr>\n",
              "  </tbody>\n",
              "</table>\n",
              "</div>"
            ],
            "text/plain": [
              "  score_type       low       mid      high\n",
              "0   rouge1-R  0.506741  0.513632  0.519868\n",
              "1   rouge1-P  0.342568  0.347434  0.352142\n",
              "2   rouge1-F  0.391058  0.396219  0.401290\n",
              "3   rouge2-R  0.359652  0.367137  0.374690\n",
              "4   rouge2-P  0.228395  0.233288  0.238237\n",
              "5   rouge2-F  0.265172  0.270630  0.276076\n",
              "6   rougeL-R  0.458417  0.465068  0.471511\n",
              "7   rougeL-P  0.307150  0.311254  0.315497\n",
              "8   rougeL-F  0.351641  0.356141  0.360965"
            ]
          },
          "metadata": {
            "tags": []
          },
          "execution_count": 8
        }
      ]
    },
    {
      "cell_type": "markdown",
      "metadata": {
        "id": "l_JT1GUu9k00",
        "colab_type": "text"
      },
      "source": [
        "## SARI score\n",
        "SARI score for evaluating paraphrasing and other text generation models.\n",
        "\n",
        "The score is introduced in the following paper:\n",
        "\n",
        "   Optimizing Statistical Machine Translation for Text Simplification\n",
        "   Wei Xu, Courtney Napoles, Ellie Pavlick, Quanze Chen and Chris Callison-Burch\n",
        "   In Transactions of the Association for Computational Linguistics (TACL) 2015\n",
        "   \n",
        "   http://cs.jhu.edu/~napoles/res/tacl2016-optimizing.pdf\n",
        "\n",
        "This implementation has two differences with the GitHub [1] implementation:\n",
        "  (1) Define 0/0=1 instead of 0 to give higher scores for predictions that match\n",
        "      a target exactly.\n",
        "  (2) Fix an alleged bug [2] in the deletion score computation.\n",
        "\n",
        "\n",
        "[1] https://github.com/cocoxu/simplification/blob/master/SARI.py\n",
        "    (commit 0210f15)\n",
        "\n",
        "[2] https://github.com/cocoxu/simplification/issues/6\n",
        "\n"
      ]
    },
    {
      "cell_type": "code",
      "metadata": {
        "id": "G_-jpnr09qLn",
        "colab_type": "code",
        "colab": {}
      },
      "source": [
        ""
      ],
      "execution_count": 0,
      "outputs": []
    }
  ]
}